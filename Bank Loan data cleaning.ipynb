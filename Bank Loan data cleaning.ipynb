{
 "cells": [
  {
   "cell_type": "markdown",
   "metadata": {},
   "source": [
    "LOAD THE CSV FILE:"
   ]
  },
  {
   "cell_type": "code",
   "execution_count": 1,
   "metadata": {},
   "outputs": [
    {
     "name": "stderr",
     "output_type": "stream",
     "text": [
      "<>:2: SyntaxWarning: invalid escape sequence '\\p'\n",
      "<>:2: SyntaxWarning: invalid escape sequence '\\p'\n",
      "C:\\Users\\steph\\AppData\\Local\\Temp\\ipykernel_524\\1454982628.py:2: SyntaxWarning: invalid escape sequence '\\p'\n",
      "  df = pd.read_csv(\"D:\\power bi project\\PROJECT\\Bank Loan\\Bank Loan dataset.csv\")\n"
     ]
    },
    {
     "data": {
      "text/html": [
       "<div>\n",
       "<style scoped>\n",
       "    .dataframe tbody tr th:only-of-type {\n",
       "        vertical-align: middle;\n",
       "    }\n",
       "\n",
       "    .dataframe tbody tr th {\n",
       "        vertical-align: top;\n",
       "    }\n",
       "\n",
       "    .dataframe thead th {\n",
       "        text-align: right;\n",
       "    }\n",
       "</style>\n",
       "<table border=\"1\" class=\"dataframe\">\n",
       "  <thead>\n",
       "    <tr style=\"text-align: right;\">\n",
       "      <th></th>\n",
       "      <th>id</th>\n",
       "      <th>address_state</th>\n",
       "      <th>application_type</th>\n",
       "      <th>emp_length</th>\n",
       "      <th>emp_title</th>\n",
       "      <th>grade</th>\n",
       "      <th>home_ownership</th>\n",
       "      <th>issue_date</th>\n",
       "      <th>last_credit_pull_date</th>\n",
       "      <th>last_payment_date</th>\n",
       "      <th>...</th>\n",
       "      <th>sub_grade</th>\n",
       "      <th>term</th>\n",
       "      <th>verification_status</th>\n",
       "      <th>annual_income</th>\n",
       "      <th>dti</th>\n",
       "      <th>installment</th>\n",
       "      <th>int_rate</th>\n",
       "      <th>loan_amount</th>\n",
       "      <th>total_acc</th>\n",
       "      <th>total_payment</th>\n",
       "    </tr>\n",
       "  </thead>\n",
       "  <tbody>\n",
       "    <tr>\n",
       "      <th>0</th>\n",
       "      <td>1</td>\n",
       "      <td>GA</td>\n",
       "      <td>Individual</td>\n",
       "      <td>5 years</td>\n",
       "      <td>Higher education lecturer</td>\n",
       "      <td>A</td>\n",
       "      <td>RENT</td>\n",
       "      <td>13-04-2023</td>\n",
       "      <td>06-03-2023</td>\n",
       "      <td>06-06-2023</td>\n",
       "      <td>...</td>\n",
       "      <td>G2</td>\n",
       "      <td>60 months</td>\n",
       "      <td>Verified</td>\n",
       "      <td>82672</td>\n",
       "      <td>0.426598</td>\n",
       "      <td>368</td>\n",
       "      <td>0.107861</td>\n",
       "      <td>42034</td>\n",
       "      <td>6</td>\n",
       "      <td>46602</td>\n",
       "    </tr>\n",
       "    <tr>\n",
       "      <th>1</th>\n",
       "      <td>2</td>\n",
       "      <td>IL</td>\n",
       "      <td>Joint</td>\n",
       "      <td>1 year</td>\n",
       "      <td>Research scientist (physical sciences)</td>\n",
       "      <td>C</td>\n",
       "      <td>RENT</td>\n",
       "      <td>15-12-2023</td>\n",
       "      <td>04-01-2023</td>\n",
       "      <td>16-02-2023</td>\n",
       "      <td>...</td>\n",
       "      <td>E2</td>\n",
       "      <td>36 months</td>\n",
       "      <td>Not Verified</td>\n",
       "      <td>99592</td>\n",
       "      <td>0.198634</td>\n",
       "      <td>235</td>\n",
       "      <td>0.052289</td>\n",
       "      <td>48336</td>\n",
       "      <td>10</td>\n",
       "      <td>45096</td>\n",
       "    </tr>\n",
       "    <tr>\n",
       "      <th>2</th>\n",
       "      <td>3</td>\n",
       "      <td>GA</td>\n",
       "      <td>Joint</td>\n",
       "      <td>4 years</td>\n",
       "      <td>Engineer, maintenance (IT)</td>\n",
       "      <td>D</td>\n",
       "      <td>RENT</td>\n",
       "      <td>28-09-2023</td>\n",
       "      <td>06-06-2023</td>\n",
       "      <td>23-12-2023</td>\n",
       "      <td>...</td>\n",
       "      <td>B3</td>\n",
       "      <td>60 months</td>\n",
       "      <td>Not Verified</td>\n",
       "      <td>145774</td>\n",
       "      <td>0.177763</td>\n",
       "      <td>156</td>\n",
       "      <td>0.074116</td>\n",
       "      <td>22014</td>\n",
       "      <td>27</td>\n",
       "      <td>24864</td>\n",
       "    </tr>\n",
       "    <tr>\n",
       "      <th>3</th>\n",
       "      <td>4</td>\n",
       "      <td>NY</td>\n",
       "      <td>Joint</td>\n",
       "      <td>5 years</td>\n",
       "      <td>Corporate treasurer</td>\n",
       "      <td>C</td>\n",
       "      <td>OWN</td>\n",
       "      <td>17-04-2023</td>\n",
       "      <td>06-09-2023</td>\n",
       "      <td>29-12-2023</td>\n",
       "      <td>...</td>\n",
       "      <td>A5</td>\n",
       "      <td>60 months</td>\n",
       "      <td>Verified</td>\n",
       "      <td>108391</td>\n",
       "      <td>0.442161</td>\n",
       "      <td>527</td>\n",
       "      <td>0.166202</td>\n",
       "      <td>35198</td>\n",
       "      <td>19</td>\n",
       "      <td>41767</td>\n",
       "    </tr>\n",
       "    <tr>\n",
       "      <th>4</th>\n",
       "      <td>5</td>\n",
       "      <td>NC</td>\n",
       "      <td>Joint</td>\n",
       "      <td>1 year</td>\n",
       "      <td>Scientific laboratory technician</td>\n",
       "      <td>G</td>\n",
       "      <td>OWN</td>\n",
       "      <td>13-03-2023</td>\n",
       "      <td>14-09-2023</td>\n",
       "      <td>22-01-2023</td>\n",
       "      <td>...</td>\n",
       "      <td>D3</td>\n",
       "      <td>60 months</td>\n",
       "      <td>Source Verified</td>\n",
       "      <td>86849</td>\n",
       "      <td>0.267725</td>\n",
       "      <td>104</td>\n",
       "      <td>0.083469</td>\n",
       "      <td>15309</td>\n",
       "      <td>29</td>\n",
       "      <td>14279</td>\n",
       "    </tr>\n",
       "  </tbody>\n",
       "</table>\n",
       "<p>5 rows × 24 columns</p>\n",
       "</div>"
      ],
      "text/plain": [
       "   id address_state application_type emp_length  \\\n",
       "0   1            GA       Individual    5 years   \n",
       "1   2            IL            Joint     1 year   \n",
       "2   3            GA            Joint    4 years   \n",
       "3   4            NY            Joint    5 years   \n",
       "4   5            NC            Joint     1 year   \n",
       "\n",
       "                                emp_title grade home_ownership  issue_date  \\\n",
       "0               Higher education lecturer     A           RENT  13-04-2023   \n",
       "1  Research scientist (physical sciences)     C           RENT  15-12-2023   \n",
       "2              Engineer, maintenance (IT)     D           RENT  28-09-2023   \n",
       "3                     Corporate treasurer     C            OWN  17-04-2023   \n",
       "4        Scientific laboratory technician     G            OWN  13-03-2023   \n",
       "\n",
       "  last_credit_pull_date last_payment_date  ... sub_grade       term  \\\n",
       "0            06-03-2023        06-06-2023  ...        G2  60 months   \n",
       "1            04-01-2023        16-02-2023  ...        E2  36 months   \n",
       "2            06-06-2023        23-12-2023  ...        B3  60 months   \n",
       "3            06-09-2023        29-12-2023  ...        A5  60 months   \n",
       "4            14-09-2023        22-01-2023  ...        D3  60 months   \n",
       "\n",
       "   verification_status annual_income       dti installment  int_rate  \\\n",
       "0             Verified         82672  0.426598         368  0.107861   \n",
       "1         Not Verified         99592  0.198634         235  0.052289   \n",
       "2         Not Verified        145774  0.177763         156  0.074116   \n",
       "3             Verified        108391  0.442161         527  0.166202   \n",
       "4      Source Verified         86849  0.267725         104  0.083469   \n",
       "\n",
       "   loan_amount  total_acc  total_payment  \n",
       "0        42034          6          46602  \n",
       "1        48336         10          45096  \n",
       "2        22014         27          24864  \n",
       "3        35198         19          41767  \n",
       "4        15309         29          14279  \n",
       "\n",
       "[5 rows x 24 columns]"
      ]
     },
     "execution_count": 1,
     "metadata": {},
     "output_type": "execute_result"
    }
   ],
   "source": [
    "import pandas as pd\n",
    "df = pd.read_csv(\"D:\\power bi project\\PROJECT\\Bank Loan\\Bank Loan dataset.csv\")\n",
    "df.head()"
   ]
  },
  {
   "cell_type": "markdown",
   "metadata": {},
   "source": [
    "Check data types and missing values"
   ]
  },
  {
   "cell_type": "code",
   "execution_count": 6,
   "metadata": {},
   "outputs": [
    {
     "name": "stdout",
     "output_type": "stream",
     "text": [
      "<class 'pandas.core.frame.DataFrame'>\n",
      "RangeIndex: 26151 entries, 0 to 26150\n",
      "Data columns (total 25 columns):\n",
      " #   Column                 Non-Null Count  Dtype  \n",
      "---  ------                 --------------  -----  \n",
      " 0   Unnamed: 0             26151 non-null  int64  \n",
      " 1   id                     26151 non-null  int64  \n",
      " 2   address_state          26151 non-null  object \n",
      " 3   application_type       26151 non-null  object \n",
      " 4   emp_length             26151 non-null  object \n",
      " 5   emp_title              26151 non-null  object \n",
      " 6   grade                  26151 non-null  object \n",
      " 7   home_ownership         26151 non-null  object \n",
      " 8   issue_date             26151 non-null  object \n",
      " 9   last_credit_pull_date  26151 non-null  object \n",
      " 10  last_payment_date      26151 non-null  object \n",
      " 11  loan_status            26149 non-null  object \n",
      " 12  next_payment_date      26151 non-null  object \n",
      " 13  member_id              26151 non-null  int64  \n",
      " 14  purpose                26151 non-null  object \n",
      " 15  sub_grade              26151 non-null  object \n",
      " 16  term                   26151 non-null  object \n",
      " 17  verification_status    26151 non-null  object \n",
      " 18  annual_income          26151 non-null  int64  \n",
      " 19  dti                    26151 non-null  float64\n",
      " 20  installment            26151 non-null  int64  \n",
      " 21  int_rate               26151 non-null  float64\n",
      " 22  loan_amount            26151 non-null  int64  \n",
      " 23  total_acc              26151 non-null  int64  \n",
      " 24  total_payment          26151 non-null  int64  \n",
      "dtypes: float64(2), int64(8), object(15)\n",
      "memory usage: 5.0+ MB\n",
      "None\n"
     ]
    }
   ],
   "source": [
    "print(df.info())"
   ]
  },
  {
   "cell_type": "markdown",
   "metadata": {},
   "source": [
    "Summary statistics for numerical columns"
   ]
  },
  {
   "cell_type": "code",
   "execution_count": 7,
   "metadata": {},
   "outputs": [
    {
     "name": "stdout",
     "output_type": "stream",
     "text": [
      "         Unnamed: 0            id      member_id  annual_income           dti  \\\n",
      "count  26151.000000  26151.000000   26151.000000   26151.000000  26151.000000   \n",
      "mean   13075.000000  13076.000000  549922.949180   89927.324462      0.220084   \n",
      "std     7549.287781   7549.287781  261089.041459   34566.318895      0.104642   \n",
      "min        0.000000      1.000000  100001.000000   30002.000000      0.040073   \n",
      "25%     6537.500000   6538.500000  322057.500000   60062.500000      0.130757   \n",
      "50%    13075.000000  13076.000000  549970.000000   90275.000000      0.217899   \n",
      "75%    19612.500000  19613.500000  777981.500000  119729.500000      0.303641   \n",
      "max    26150.000000  26151.000000  999996.000000  149983.000000      0.467832   \n",
      "\n",
      "        installment      int_rate   loan_amount     total_acc  total_payment  \n",
      "count  26151.000000  26151.000000  26151.000000  26151.000000    26151.00000  \n",
      "mean     321.942182      0.145386  25710.149899     17.018011    25740.45264  \n",
      "std      227.289010      0.058462  14109.708901      7.229360    14538.59677  \n",
      "min        4.000000      0.045002   1000.000000      5.000000      820.00000  \n",
      "25%      139.000000      0.094656  13565.500000     11.000000    13386.00000  \n",
      "50%      271.000000      0.145329  25832.000000     17.000000    25441.00000  \n",
      "75%      467.000000      0.194921  37961.000000     23.000000    37434.00000  \n",
      "max     1031.000000      0.266188  49997.000000     29.000000    59774.00000  \n"
     ]
    }
   ],
   "source": [
    "print(df.describe())"
   ]
  },
  {
   "cell_type": "markdown",
   "metadata": {},
   "source": [
    "Check unique values in categorical columns"
   ]
  },
  {
   "cell_type": "code",
   "execution_count": 8,
   "metadata": {},
   "outputs": [
    {
     "name": "stdout",
     "output_type": "stream",
     "text": [
      "Unnamed: 0               26151\n",
      "id                       26151\n",
      "address_state               10\n",
      "application_type             2\n",
      "emp_length                  11\n",
      "emp_title                  639\n",
      "grade                        7\n",
      "home_ownership               3\n",
      "issue_date                 365\n",
      "last_credit_pull_date      365\n",
      "last_payment_date          365\n",
      "loan_status                  4\n",
      "next_payment_date          365\n",
      "member_id                25746\n",
      "purpose                      6\n",
      "sub_grade                   35\n",
      "term                         2\n",
      "verification_status          3\n",
      "annual_income            23497\n",
      "dti                      26148\n",
      "installment               1007\n",
      "int_rate                 26150\n",
      "loan_amount              20175\n",
      "total_acc                   25\n",
      "total_payment            20491\n",
      "dtype: int64\n"
     ]
    }
   ],
   "source": [
    "print(df.nunique())"
   ]
  },
  {
   "cell_type": "markdown",
   "metadata": {},
   "source": [
    "Count duplicates"
   ]
  },
  {
   "cell_type": "code",
   "execution_count": 9,
   "metadata": {},
   "outputs": [
    {
     "name": "stdout",
     "output_type": "stream",
     "text": [
      "0\n"
     ]
    }
   ],
   "source": [
    "print(df.duplicated().sum())"
   ]
  },
  {
   "cell_type": "markdown",
   "metadata": {},
   "source": [
    "Check percentage of missing values"
   ]
  },
  {
   "cell_type": "code",
   "execution_count": 37,
   "metadata": {},
   "outputs": [
    {
     "data": {
      "text/plain": [
       "id                       0.000000\n",
       "address_state            0.000000\n",
       "application_type         0.000000\n",
       "emp_length               0.000000\n",
       "emp_title                0.000000\n",
       "grade                    0.000000\n",
       "home_ownership           0.000000\n",
       "issue_date               0.000000\n",
       "last_credit_pull_date    0.000000\n",
       "last_payment_date        0.000000\n",
       "loan_status              0.007648\n",
       "next_payment_date        0.000000\n",
       "member_id                0.000000\n",
       "purpose                  0.000000\n",
       "sub_grade                0.000000\n",
       "term                     0.000000\n",
       "verification_status      0.000000\n",
       "annual_income            0.000000\n",
       "dti                      0.000000\n",
       "installment              0.000000\n",
       "int_rate                 0.000000\n",
       "loan_amount              0.000000\n",
       "total_acc                0.000000\n",
       "total_payment            0.000000\n",
       "dtype: float64"
      ]
     },
     "execution_count": 37,
     "metadata": {},
     "output_type": "execute_result"
    }
   ],
   "source": [
    "df.isnull().mean() * 100"
   ]
  },
  {
   "cell_type": "markdown",
   "metadata": {},
   "source": [
    "STRIP THE UNKNOWN VALUE IN THE DATA"
   ]
  },
  {
   "cell_type": "code",
   "execution_count": 2,
   "metadata": {},
   "outputs": [
    {
     "data": {
      "text/html": [
       "<div>\n",
       "<style scoped>\n",
       "    .dataframe tbody tr th:only-of-type {\n",
       "        vertical-align: middle;\n",
       "    }\n",
       "\n",
       "    .dataframe tbody tr th {\n",
       "        vertical-align: top;\n",
       "    }\n",
       "\n",
       "    .dataframe thead th {\n",
       "        text-align: right;\n",
       "    }\n",
       "</style>\n",
       "<table border=\"1\" class=\"dataframe\">\n",
       "  <thead>\n",
       "    <tr style=\"text-align: right;\">\n",
       "      <th></th>\n",
       "      <th>id</th>\n",
       "      <th>address_state</th>\n",
       "      <th>application_type</th>\n",
       "      <th>emp_length</th>\n",
       "      <th>emp_title</th>\n",
       "      <th>grade</th>\n",
       "      <th>home_ownership</th>\n",
       "      <th>issue_date</th>\n",
       "      <th>last_credit_pull_date</th>\n",
       "      <th>last_payment_date</th>\n",
       "      <th>...</th>\n",
       "      <th>sub_grade</th>\n",
       "      <th>term</th>\n",
       "      <th>verification_status</th>\n",
       "      <th>annual_income</th>\n",
       "      <th>dti</th>\n",
       "      <th>installment</th>\n",
       "      <th>int_rate</th>\n",
       "      <th>loan_amount</th>\n",
       "      <th>total_acc</th>\n",
       "      <th>total_payment</th>\n",
       "    </tr>\n",
       "  </thead>\n",
       "  <tbody>\n",
       "    <tr>\n",
       "      <th>0</th>\n",
       "      <td>1</td>\n",
       "      <td>GA</td>\n",
       "      <td>Individual</td>\n",
       "      <td>5 years</td>\n",
       "      <td>Higher education lecturer</td>\n",
       "      <td>A</td>\n",
       "      <td>RENT</td>\n",
       "      <td>13-04-2023</td>\n",
       "      <td>06-03-2023</td>\n",
       "      <td>06-06-2023</td>\n",
       "      <td>...</td>\n",
       "      <td>G2</td>\n",
       "      <td>60 months</td>\n",
       "      <td>Verified</td>\n",
       "      <td>82672</td>\n",
       "      <td>0.426598</td>\n",
       "      <td>368</td>\n",
       "      <td>0.107861</td>\n",
       "      <td>42034</td>\n",
       "      <td>6</td>\n",
       "      <td>46602</td>\n",
       "    </tr>\n",
       "    <tr>\n",
       "      <th>1</th>\n",
       "      <td>2</td>\n",
       "      <td>IL</td>\n",
       "      <td>Joint</td>\n",
       "      <td>1 year</td>\n",
       "      <td>Research scientist (physical sciences)</td>\n",
       "      <td>C</td>\n",
       "      <td>RENT</td>\n",
       "      <td>15-12-2023</td>\n",
       "      <td>04-01-2023</td>\n",
       "      <td>16-02-2023</td>\n",
       "      <td>...</td>\n",
       "      <td>E2</td>\n",
       "      <td>36 months</td>\n",
       "      <td>Not Verified</td>\n",
       "      <td>99592</td>\n",
       "      <td>0.198634</td>\n",
       "      <td>235</td>\n",
       "      <td>0.052289</td>\n",
       "      <td>48336</td>\n",
       "      <td>10</td>\n",
       "      <td>45096</td>\n",
       "    </tr>\n",
       "    <tr>\n",
       "      <th>2</th>\n",
       "      <td>3</td>\n",
       "      <td>GA</td>\n",
       "      <td>Joint</td>\n",
       "      <td>4 years</td>\n",
       "      <td>Engineer, maintenance (IT)</td>\n",
       "      <td>D</td>\n",
       "      <td>RENT</td>\n",
       "      <td>28-09-2023</td>\n",
       "      <td>06-06-2023</td>\n",
       "      <td>23-12-2023</td>\n",
       "      <td>...</td>\n",
       "      <td>B3</td>\n",
       "      <td>60 months</td>\n",
       "      <td>Not Verified</td>\n",
       "      <td>145774</td>\n",
       "      <td>0.177763</td>\n",
       "      <td>156</td>\n",
       "      <td>0.074116</td>\n",
       "      <td>22014</td>\n",
       "      <td>27</td>\n",
       "      <td>24864</td>\n",
       "    </tr>\n",
       "    <tr>\n",
       "      <th>3</th>\n",
       "      <td>4</td>\n",
       "      <td>NY</td>\n",
       "      <td>Joint</td>\n",
       "      <td>5 years</td>\n",
       "      <td>Corporate treasurer</td>\n",
       "      <td>C</td>\n",
       "      <td>OWN</td>\n",
       "      <td>17-04-2023</td>\n",
       "      <td>06-09-2023</td>\n",
       "      <td>29-12-2023</td>\n",
       "      <td>...</td>\n",
       "      <td>A5</td>\n",
       "      <td>60 months</td>\n",
       "      <td>Verified</td>\n",
       "      <td>108391</td>\n",
       "      <td>0.442161</td>\n",
       "      <td>527</td>\n",
       "      <td>0.166202</td>\n",
       "      <td>35198</td>\n",
       "      <td>19</td>\n",
       "      <td>41767</td>\n",
       "    </tr>\n",
       "    <tr>\n",
       "      <th>4</th>\n",
       "      <td>5</td>\n",
       "      <td>NC</td>\n",
       "      <td>Joint</td>\n",
       "      <td>1 year</td>\n",
       "      <td>Scientific laboratory technician</td>\n",
       "      <td>G</td>\n",
       "      <td>OWN</td>\n",
       "      <td>13-03-2023</td>\n",
       "      <td>14-09-2023</td>\n",
       "      <td>22-01-2023</td>\n",
       "      <td>...</td>\n",
       "      <td>D3</td>\n",
       "      <td>60 months</td>\n",
       "      <td>Source Verified</td>\n",
       "      <td>86849</td>\n",
       "      <td>0.267725</td>\n",
       "      <td>104</td>\n",
       "      <td>0.083469</td>\n",
       "      <td>15309</td>\n",
       "      <td>29</td>\n",
       "      <td>14279</td>\n",
       "    </tr>\n",
       "  </tbody>\n",
       "</table>\n",
       "<p>5 rows × 24 columns</p>\n",
       "</div>"
      ],
      "text/plain": [
       "   id address_state application_type emp_length  \\\n",
       "0   1            GA       Individual    5 years   \n",
       "1   2            IL            Joint     1 year   \n",
       "2   3            GA            Joint    4 years   \n",
       "3   4            NY            Joint    5 years   \n",
       "4   5            NC            Joint     1 year   \n",
       "\n",
       "                                emp_title grade home_ownership  issue_date  \\\n",
       "0               Higher education lecturer     A           RENT  13-04-2023   \n",
       "1  Research scientist (physical sciences)     C           RENT  15-12-2023   \n",
       "2              Engineer, maintenance (IT)     D           RENT  28-09-2023   \n",
       "3                     Corporate treasurer     C            OWN  17-04-2023   \n",
       "4        Scientific laboratory technician     G            OWN  13-03-2023   \n",
       "\n",
       "  last_credit_pull_date last_payment_date  ... sub_grade       term  \\\n",
       "0            06-03-2023        06-06-2023  ...        G2  60 months   \n",
       "1            04-01-2023        16-02-2023  ...        E2  36 months   \n",
       "2            06-06-2023        23-12-2023  ...        B3  60 months   \n",
       "3            06-09-2023        29-12-2023  ...        A5  60 months   \n",
       "4            14-09-2023        22-01-2023  ...        D3  60 months   \n",
       "\n",
       "   verification_status annual_income       dti installment  int_rate  \\\n",
       "0             Verified         82672  0.426598         368  0.107861   \n",
       "1         Not Verified         99592  0.198634         235  0.052289   \n",
       "2         Not Verified        145774  0.177763         156  0.074116   \n",
       "3             Verified        108391  0.442161         527  0.166202   \n",
       "4      Source Verified         86849  0.267725         104  0.083469   \n",
       "\n",
       "   loan_amount  total_acc  total_payment  \n",
       "0        42034          6          46602  \n",
       "1        48336         10          45096  \n",
       "2        22014         27          24864  \n",
       "3        35198         19          41767  \n",
       "4        15309         29          14279  \n",
       "\n",
       "[5 rows x 24 columns]"
      ]
     },
     "execution_count": 2,
     "metadata": {},
     "output_type": "execute_result"
    }
   ],
   "source": [
    "df[\"emp_length\"] = df[\"emp_length\"].str.lstrip(\"<\")\n",
    "df[\"emp_length\"] = df[\"emp_length\"].str.lstrip(\"+\")\n",
    "df.head()"
   ]
  },
  {
   "cell_type": "markdown",
   "metadata": {},
   "source": [
    "FINDING NULL VALUE"
   ]
  },
  {
   "cell_type": "code",
   "execution_count": 3,
   "metadata": {},
   "outputs": [
    {
     "data": {
      "text/plain": [
       "id                       0\n",
       "address_state            0\n",
       "application_type         0\n",
       "emp_length               0\n",
       "emp_title                0\n",
       "grade                    0\n",
       "home_ownership           0\n",
       "issue_date               0\n",
       "last_credit_pull_date    0\n",
       "last_payment_date        0\n",
       "loan_status              2\n",
       "next_payment_date        0\n",
       "member_id                0\n",
       "purpose                  0\n",
       "sub_grade                0\n",
       "term                     0\n",
       "verification_status      0\n",
       "annual_income            0\n",
       "dti                      0\n",
       "installment              0\n",
       "int_rate                 0\n",
       "loan_amount              0\n",
       "total_acc                0\n",
       "total_payment            0\n",
       "dtype: int64"
      ]
     },
     "execution_count": 3,
     "metadata": {},
     "output_type": "execute_result"
    }
   ],
   "source": [
    "df.isnull().sum()"
   ]
  },
  {
   "cell_type": "markdown",
   "metadata": {},
   "source": [
    " Histogram & Boxplot for Numerical Features"
   ]
  },
  {
   "cell_type": "markdown",
   "metadata": {},
   "source": [
    "Histogram"
   ]
  },
  {
   "cell_type": "code",
   "execution_count": null,
   "metadata": {},
   "outputs": [
    {
     "data": {
      "image/png": "[encoded data removed]",
      "text/plain": [
       "<Figure size 1000x800 with 9 Axes>"
      ]
     },
     "metadata": {},
     "output_type": "display_data"
    }
   ],
   "source": [
    "import matplotlib.pyplot as plt\n",
    "import seaborn as sns\n",
    "\n",
    "df.hist(figsize=(10, 8), bins=30)\n",
    "plt.show()"
   ]
  },
  {
   "cell_type": "markdown",
   "metadata": {},
   "source": [
    "Boxplot"
   ]
  },
  {
   "cell_type": "code",
   "execution_count": null,
   "metadata": {},
   "outputs": [
    {
     "data": {
      "image/png": "[encoded data removed]",
      "text/plain": [
       "<Figure size 800x300 with 1 Axes>"
      ]
     },
     "metadata": {},
     "output_type": "display_data"
    }
   ],
   "source": [
    "plt.figure(figsize=(8, 3))\n",
    "sns.boxplot(data=df)\n",
    "plt.xticks(rotation=90)\n",
    "plt.show()"
   ]
  },
  {
   "cell_type": "markdown",
   "metadata": {},
   "source": [
    "Count plot for term"
   ]
  },
  {
   "cell_type": "code",
   "execution_count": null,
   "metadata": {},
   "outputs": [
    {
     "data": {
      "image/png": "[encoded data removed]",
      "text/plain": [
       "<Figure size 800x500 with 1 Axes>"
      ]
     },
     "metadata": {},
     "output_type": "display_data"
    }
   ],
   "source": [
    "plt.figure(figsize=(8, 5))\n",
    "sns.countplot(x=df['term'])\n",
    "plt.xticks(rotation=90)\n",
    "plt.show()\n"
   ]
  },
  {
   "cell_type": "markdown",
   "metadata": {},
   "source": [
    "Save Cleaned Data"
   ]
  },
  {
   "cell_type": "code",
   "execution_count": 4,
   "metadata": {},
   "outputs": [],
   "source": [
    "df.to_csv(\"Bank Loan Dataset 1.csv\", index=True)"
   ]
  }
 ],
 "metadata": {
  "kernelspec": {
   "display_name": "Python 3",
   "language": "python",
   "name": "python3"
  },
  "language_info": {
   "codemirror_mode": {
    "name": "ipython",
    "version": 3
   },
   "file_extension": ".py",
   "mimetype": "text/x-python",
   "name": "python",
   "nbconvert_exporter": "python",
   "pygments_lexer": "ipython3",
   "version": "3.13.2"
  }
 },
 "nbformat": 4,
 "nbformat_minor": 2
}
